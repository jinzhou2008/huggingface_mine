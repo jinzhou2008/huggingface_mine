{
  "cells": [
    {
      "cell_type": "markdown",
      "metadata": {
        "id": "view-in-github",
        "colab_type": "text"
      },
      "source": [
        "<a href=\"https://colab.research.google.com/github/jinzhou2008/huggingface_mine/blob/main/examples/tokenizer_training_mine.ipynb\" target=\"_parent\"><img src=\"https://colab.research.google.com/assets/colab-badge.svg\" alt=\"Open In Colab\"/></a>"
      ]
    },
    {
      "cell_type": "markdown",
      "metadata": {
        "id": "X4cRE8IbIrIV"
      },
      "source": [
        "If you're opening this Notebook on colab, you will probably need to install 🤗 Transformers and 🤗 Datasets. Uncomment the following cell and execute it:"
      ]
    },
    {
      "cell_type": "code",
      "execution_count": null,
      "metadata": {
        "id": "MOsHUjgdIrIW"
      },
      "outputs": [],
      "source": [
        "#! pip install datasets transformers[sentencepiece]"
      ]
    },
    {
      "cell_type": "markdown",
      "metadata": {
        "id": "HFASsisvIrIb"
      },
      "source": [
        "If you're opening this notebook locally, make sure your environment has an install from the last version of Datasets and a source install of Transformers."
      ]
    },
    {
      "cell_type": "code",
      "execution_count": null,
      "metadata": {
        "id": "F8y0smzi3TM_"
      },
      "outputs": [],
      "source": [
        "from transformers.utils import send_example_telemetry\n",
        "\n",
        "send_example_telemetry(\"tokenizer_training_notebook\", framework=\"none\")"
      ]
    },
    {
      "cell_type": "markdown",
      "metadata": {
        "id": "whPRbBNbIrIl"
      },
      "source": [
        "## Loading the dataset"
      ]
    },
    {
      "cell_type": "markdown",
      "metadata": {
        "id": "nXydpn4o3TNE"
      },
      "source": [
        "# Training your own tokenizer from scratch"
      ]
    },
    {
      "cell_type": "markdown",
      "metadata": {
        "id": "5wXYOUJj3TNH"
      },
      "source": [
        "In this notebook, we will see several ways to train your own tokenizer from scratch on a given corpus, so you can then use it to train a language model from scratch.\n",
        "\n",
        "Why would you need to *train* a tokenizer? That's because Transformer models very often use subword tokenization algorithms, and they need to be trained to identify the parts of words that are often present in the corpus you are using. We recommend you take a look at the [tokenization chapter](https://huggingface.co/course/chapter2/4?fw=pt) of the Hugging Face course for a general introduction on tokenizers, and at the [tokenizers summary](https://huggingface.co/transformers/tokenizer_summary.html) for a look at the differences between the subword tokenization algorithms."
      ]
    },
    {
      "cell_type": "markdown",
      "metadata": {
        "id": "29fsmuGh3TNO"
      },
      "source": [
        "## Getting a corpus"
      ]
    },
    {
      "cell_type": "markdown",
      "metadata": {
        "id": "JQ9hHa4L3TNR"
      },
      "source": [
        "We will need texts to train our tokenizer. We will use the [🤗 Datasets](https://github.com/huggingface/datasets) library to download our text data, which can be easily done with the `load_dataset` function:"
      ]
    },
    {
      "cell_type": "code",
      "execution_count": null,
      "metadata": {
        "id": "xs-dit0Z3TNX"
      },
      "outputs": [],
      "source": [
        "from datasets import load_dataset"
      ]
    },
    {
      "cell_type": "markdown",
      "metadata": {
        "id": "oLCx3E0C3TNa"
      },
      "source": [
        "For this example, we will use Wikitext-2 (which contains 4.5MB of texts so training goes fast for our example) but you can use any dataset you want (and in any language, just not English)."
      ]
    },
    {
      "cell_type": "code",
      "execution_count": null,
      "metadata": {
        "id": "ZltQPYWb3TNa"
      },
      "outputs": [],
      "source": [
        "dataset = load_dataset(\"wikitext\", name=\"wikitext-2-raw-v1\", split=\"train\")"
      ]
    },
    {
      "cell_type": "markdown",
      "metadata": {
        "id": "4_fdk_LW3TNb"
      },
      "source": [
        "We can have a look at the dataset, which as 36,718 texts:"
      ]
    },
    {
      "cell_type": "code",
      "execution_count": null,
      "metadata": {
        "id": "lH73dQwI3TNb"
      },
      "outputs": [],
      "source": [
        "dataset"
      ]
    },
    {
      "cell_type": "markdown",
      "metadata": {
        "id": "TYrdVDBD3TNd"
      },
      "source": [
        "To access an element, we just have to provide its index:"
      ]
    },
    {
      "cell_type": "code",
      "execution_count": null,
      "metadata": {
        "id": "YVtNcikx3TNd"
      },
      "outputs": [],
      "source": [
        "dataset[1]"
      ]
    },
    {
      "cell_type": "markdown",
      "metadata": {
        "id": "_8jqLfbf3TNd"
      },
      "source": [
        "We can also access a slice directly, in which case we get a dictionary with the key `\"text\"` and a list of texts as value:"
      ]
    },
    {
      "cell_type": "code",
      "execution_count": null,
      "metadata": {
        "id": "A4SRSY1H3TNd"
      },
      "outputs": [],
      "source": [
        "dataset[:5]"
      ]
    },
    {
      "cell_type": "markdown",
      "metadata": {
        "id": "rUGugG3X3TNe"
      },
      "source": [
        "The API to train our tokenizer will require an iterator of batch of texts, for instance a list of list of texts:"
      ]
    },
    {
      "cell_type": "code",
      "execution_count": null,
      "metadata": {
        "id": "1Pod90nf3TNe"
      },
      "outputs": [],
      "source": [
        "batch_size = 1000\n",
        "all_texts = [dataset[i : i + batch_size][\"text\"] for i in range(0, len(dataset), batch_size)]"
      ]
    },
    {
      "cell_type": "markdown",
      "metadata": {
        "id": "ssy82QwY3TNf"
      },
      "source": [
        "To avoid loading everything into memory (since the Datasets library keeps the element on disk and only load them in memory when requested), we define a Python iterator. This is particularly useful if you have a huge dataset:"
      ]
    },
    {
      "cell_type": "code",
      "execution_count": null,
      "metadata": {
        "id": "_9z5kvle3TNf"
      },
      "outputs": [],
      "source": [
        "def batch_iterator():\n",
        "    for i in range(0, len(dataset), batch_size):\n",
        "        yield dataset[i : i + batch_size][\"text\"]"
      ]
    },
    {
      "cell_type": "markdown",
      "metadata": {
        "id": "Z_-rC7OL3TNh"
      },
      "source": [
        "Now let's see how we can use this corpus to train a new tokenizer! There are two APIs to do this: the first one uses an existing tokenizer and will train a new version of it on your corpus in one line of code, the second is to actually build your tokenizer block by block, so lets you customize every step!"
      ]
    },
    {
      "cell_type": "markdown",
      "metadata": {
        "id": "7W3iGsoR3TNi"
      },
      "source": [
        "## Using an existing tokenizer"
      ]
    },
    {
      "cell_type": "markdown",
      "metadata": {
        "id": "_CugSNPx3TNi"
      },
      "source": [
        "If you want to train a tokenizer with the exact same algorithms and parameters as an existing one, you can just use the `train_new_from_iterator` API. For instance, let's train a new version of the GPT-2 tokenzier on Wikitext-2 using the same tokenization algorithm.\n",
        "\n",
        "First we need to load the tokenizer we want to use as a model:"
      ]
    },
    {
      "cell_type": "code",
      "execution_count": null,
      "metadata": {
        "id": "YEasv5Yn3TNj"
      },
      "outputs": [],
      "source": [
        "from transformers import AutoTokenizer\n",
        "\n",
        "tokenizer = AutoTokenizer.from_pretrained(\"gpt2\")\n",
        "text=\"This is an example!\"\n",
        "text=\"times dimes\"\n",
        "text=\"Jordan is the last name of MJ Michael Jordan\"\n",
        "text=\"Jordan is a middle east asian country\"\n",
        "text=\"Xylophone is a musical instrument\"\n",
        "tokens=tokenizer.tokenize(text)\n",
        "token_ids=tokenizer.convert_tokens_to_ids(tokens)\n",
        "print(tokens)\n",
        "print(token_ids)"
      ]
    },
    {
      "cell_type": "markdown",
      "metadata": {
        "id": "I3yodgn73TNj"
      },
      "source": [
        "Make sure that the tokenizer you picked as a *fast* version (backed by the 🤗 Tokenizers library) otherwise the rest of the notebook will not run:"
      ]
    },
    {
      "cell_type": "code",
      "source": [
        "from huggingface_hub import notebook_login\n",
        "notebook_login()\n",
        "tokenizer.push_to_hub(\"my-gpt2-tokenizer\")"
      ],
      "metadata": {
        "id": "KWMkabHDrltD"
      },
      "execution_count": null,
      "outputs": []
    },
    {
      "cell_type": "code",
      "source": [
        "tokenizer"
      ],
      "metadata": {
        "id": "8PbrbBwgjIXu"
      },
      "execution_count": null,
      "outputs": []
    },
    {
      "cell_type": "code",
      "execution_count": null,
      "metadata": {
        "id": "xT-YHoYe3TNk"
      },
      "outputs": [],
      "source": [
        "tokenizer.is_fast"
      ]
    },
    {
      "cell_type": "markdown",
      "metadata": {
        "id": "pQKeC_rw3TNl"
      },
      "source": [
        "Then we feed the training corpus (either the list of list or the iterator we defined earlier) to the `train_new_from_iterator` method. We also have to specify the vocabulary size we want to use:"
      ]
    },
    {
      "cell_type": "code",
      "execution_count": null,
      "metadata": {
        "id": "qd_LFW6C3TNm"
      },
      "outputs": [],
      "source": [
        "new_tokenizer = tokenizer.train_new_from_iterator(batch_iterator(), vocab_size=25000)"
      ]
    },
    {
      "cell_type": "markdown",
      "metadata": {
        "id": "RO0WNh0x3TNm"
      },
      "source": [
        "And that's all there is to it! The training goes very fast thanks to the 🤗 Tokenizers library, backed by Rust.\n",
        "\n",
        "You now have a new tokenizer ready to preprocess your data and train a language model. You can feed it input texts as usual:"
      ]
    },
    {
      "cell_type": "code",
      "execution_count": null,
      "metadata": {
        "id": "VJtPYIYg3TNn"
      },
      "outputs": [],
      "source": [
        "new_tokenizer(dataset[:5][\"text\"])"
      ]
    },
    {
      "cell_type": "markdown",
      "metadata": {
        "id": "RijMInxe3TNp"
      },
      "source": [
        "You can save it locally with the `save_pretrained` method:"
      ]
    },
    {
      "cell_type": "code",
      "execution_count": null,
      "metadata": {
        "id": "0saBjXea3TNp"
      },
      "outputs": [],
      "source": [
        "new_tokenizer.save_pretrained(\"my-new-tokenizer\")"
      ]
    },
    {
      "cell_type": "markdown",
      "metadata": {
        "id": "QAD5s5kv3TNp"
      },
      "source": [
        "Or even push it to the [Hugging Face Hub](https://huggingface.co/models) to use that new tokenzier from anywhere. Just make sure you have your authentication token stored by executing `huggingface-cli login` in a terminal or executing the following cell:"
      ]
    },
    {
      "cell_type": "code",
      "execution_count": null,
      "metadata": {
        "id": "4WZ3xB8P3TNq"
      },
      "outputs": [],
      "source": [
        "from huggingface_hub import notebook_login\n",
        "\n",
        "notebook_login()"
      ]
    },
    {
      "cell_type": "markdown",
      "metadata": {
        "id": "gndmu2pa3TNr"
      },
      "source": [
        "We are almost there, it is also necessary that you have `git lfs` installed. You can do it directly from this notebook by uncommenting the following cells:"
      ]
    },
    {
      "cell_type": "code",
      "execution_count": null,
      "metadata": {
        "id": "_P9AWrCL3TNr"
      },
      "outputs": [],
      "source": [
        "# !apt install git-lfs"
      ]
    },
    {
      "cell_type": "code",
      "execution_count": null,
      "metadata": {
        "id": "VYzisLgY3TNs"
      },
      "outputs": [],
      "source": [
        "new_tokenizer.push_to_hub(\"my-new-shiny-tokenizer\")"
      ]
    },
    {
      "cell_type": "markdown",
      "metadata": {
        "id": "_HIFRkKr3TN8"
      },
      "source": [
        "The tokenizer can now be reloaded on this machine with:"
      ]
    },
    {
      "cell_type": "code",
      "execution_count": null,
      "metadata": {
        "id": "Wyer6SZt3TN_"
      },
      "outputs": [],
      "source": [
        "tok = new_tokenizer.from_pretrained(\"my-new-tokenizer\")"
      ]
    },
    {
      "cell_type": "markdown",
      "metadata": {
        "id": "XnTKTs6f3TOA"
      },
      "source": [
        "Or from anywhere using the repo ID, which is your namespace followed by a slash an the name you gave in the `push_to_hub` method, so for instance:\n",
        "\n",
        "```python\n",
        "tok = new_tokenizer.from_pretrained(\"sgugger/my-new-shiny-tokenizer\")\n",
        "```"
      ]
    },
    {
      "cell_type": "code",
      "source": [
        "tok2 = new_tokenizer.from_pretrained(\"jinzhou20081/my-new-shiny-tokenizer\")\n",
        "tok2"
      ],
      "metadata": {
        "id": "sdoUxVSoiK_2"
      },
      "execution_count": null,
      "outputs": []
    },
    {
      "cell_type": "code",
      "source": [
        "tok2['tokenizer_config.json']"
      ],
      "metadata": {
        "id": "nblSPwCAiprO"
      },
      "execution_count": null,
      "outputs": []
    },
    {
      "cell_type": "markdown",
      "metadata": {
        "id": "A6Aaqkc33TOA"
      },
      "source": [
        "Now if you want to create and a train a new tokenizer that doesn't look like anything in existence, you will need to build it from scratch using the 🤗 Tokenizers library."
      ]
    },
    {
      "cell_type": "markdown",
      "metadata": {
        "id": "phs5e0mW3TOB"
      },
      "source": [
        "## Building your tokenizer from scratch"
      ]
    },
    {
      "cell_type": "markdown",
      "metadata": {
        "id": "wK_T6j0D3TOB"
      },
      "source": [
        "To understand how to build your tokenizer from scratch, we have to dive a little bit more in the 🤗 Tokenizers library and the tokenization pipeline. This pipeline takes several steps:\n",
        "\n",
        "- **Normalization**: Executes all the initial transformations over the initial input string. For example when you need to lowercase some text, maybe strip it, or even apply one of the common unicode normalization process, you will add a Normalizer.\n",
        "- **Pre-tokenization**: In charge of splitting the initial input string. That's the component that decides where and how to pre-segment the origin string. The simplest example would be to simply split on spaces.\n",
        "- **Model**: Handles all the sub-token discovery and generation, this is the part that is trainable and really dependent of your input data.\n",
        "- **Post-Processing**: Provides advanced construction features to be compatible with some of the Transformers-based SoTA models. For instance, for BERT it would wrap the tokenized sentence around [CLS] and [SEP] tokens.\n",
        "\n",
        "And to go in the other direction:\n",
        "\n",
        "- **Decoding**: In charge of mapping back a tokenized input to the original string. The decoder is usually chosen according to the `PreTokenizer` we used previously.\n",
        "\n",
        "For the training of the model, the 🤗 Tokenizers library provides a `Trainer` class that we will use.\n",
        "\n",
        "All of these building blocks can be combined to create working tokenization pipelines. To give you some examples, we will show three full pipelines here: how to replicate GPT-2, BERT and T5 (which will give you an example of BPE, WordPiece and Unigram tokenizer)."
      ]
    },
    {
      "cell_type": "markdown",
      "metadata": {
        "id": "TeKU9t1n3TOC"
      },
      "source": [
        "### WordPiece model like BERT"
      ]
    },
    {
      "cell_type": "markdown",
      "metadata": {
        "id": "bgdA90aW3TOC"
      },
      "source": [
        "Let's have a look at how we can create a WordPiece tokenizer like the one used for training BERT. The first step is to create a `Tokenizer` with an empty `WordPiece` model:"
      ]
    },
    {
      "cell_type": "code",
      "execution_count": null,
      "metadata": {
        "id": "n2nDD0hm3TOC"
      },
      "outputs": [],
      "source": [
        "from tokenizers import decoders, models, normalizers, pre_tokenizers, processors, trainers, Tokenizer\n",
        "\n",
        "tokenizer = Tokenizer(models.WordPiece(unk_token=\"[UNK]\"))"
      ]
    },
    {
      "cell_type": "markdown",
      "metadata": {
        "id": "nX_kY_ni3TOD"
      },
      "source": [
        "This `tokenizer` is not ready for training yet. We have to add some preprocessing steps: the normalization (which is optional) and the pre-tokenizer, which will split inputs into the chunks we will call words. The tokens will then be part of those words (but can't be larger than that).\n",
        "\n",
        "In the case of BERT, the normalization is lowercasing. Since BERT is such a popular model, it has its own normalizer:"
      ]
    },
    {
      "cell_type": "code",
      "execution_count": null,
      "metadata": {
        "id": "wQIRVIb-3TOF"
      },
      "outputs": [],
      "source": [
        "tokenizer.normalizer = normalizers.BertNormalizer(lowercase=True)"
      ]
    },
    {
      "cell_type": "markdown",
      "metadata": {
        "id": "Kpq8dTqu3TOG"
      },
      "source": [
        "If you want to customize it, you can use the existing blocks and compose them in a sequence: here for instance we lower case, apply NFD normalization and strip the accents:"
      ]
    },
    {
      "cell_type": "code",
      "execution_count": null,
      "metadata": {
        "id": "0Se0uGRp3TOH"
      },
      "outputs": [],
      "source": [
        "tokenizer.normalizer = normalizers.Sequence(\n",
        "    [normalizers.NFD(), normalizers.Lowercase(), normalizers.StripAccents()]\n",
        ")"
      ]
    },
    {
      "cell_type": "markdown",
      "metadata": {
        "id": "R9fyvxTt3TOI"
      },
      "source": [
        "There is also a `BertPreTokenizer` we can use directly. It pre-tokenizes using white space and punctuation:"
      ]
    },
    {
      "cell_type": "code",
      "execution_count": null,
      "metadata": {
        "id": "BiGaQaax3TOJ"
      },
      "outputs": [],
      "source": [
        "tokenizer.pre_tokenizer = pre_tokenizers.BertPreTokenizer()"
      ]
    },
    {
      "cell_type": "markdown",
      "metadata": {
        "id": "Fq4I0Xze3TOK"
      },
      "source": [
        "Like for the normalizer, we can combine several pre-tokenizers in a `Sequence`. If we want to have a quick look at how it preprocesses the inputs, we can call the `pre_tokenize_str` method:"
      ]
    },
    {
      "cell_type": "code",
      "execution_count": null,
      "metadata": {
        "id": "zaXwS9SZ3TOM"
      },
      "outputs": [],
      "source": [
        "tokenizer.pre_tokenizer.pre_tokenize_str(\"This is an example!\")"
      ]
    },
    {
      "cell_type": "markdown",
      "metadata": {
        "id": "gju-5TVW3TOM"
      },
      "source": [
        "Note that the pre-tokenizer not only split the text into words but keeps the offsets, that is the beginning and start of each of those words inside the original text. This is what will allow the final tokenizer to be able to match each token to the part of the text that it comes from (a feature we use for question answering or token classification tasks).\n",
        "\n",
        "We can now train our tokenizer (the pipeline is not entirely finished but we will need a trained tokenizer to build the post-processor), we use a `WordPieceTrainer` for that. The key thing to remember is to pass along the special tokens to the trainer, as they won't be seen in the corpus."
      ]
    },
    {
      "cell_type": "code",
      "execution_count": null,
      "metadata": {
        "id": "eyZ42hRV3TON"
      },
      "outputs": [],
      "source": [
        "special_tokens = [\"[UNK]\", \"[PAD]\", \"[CLS]\", \"[SEP]\", \"[MASK]\"]\n",
        "trainer = trainers.WordPieceTrainer(vocab_size=25000, special_tokens=special_tokens)"
      ]
    },
    {
      "cell_type": "markdown",
      "metadata": {
        "id": "o5IDXk0S3TOO"
      },
      "source": [
        "To actually train the tokenizer, the method looks like what we used before: we can either pass some text files, or an iterator of batches of texts:"
      ]
    },
    {
      "cell_type": "code",
      "execution_count": null,
      "metadata": {
        "id": "rHZZYPl03TOO"
      },
      "outputs": [],
      "source": [
        "tokenizer.train_from_iterator(batch_iterator(), trainer=trainer)"
      ]
    },
    {
      "cell_type": "markdown",
      "metadata": {
        "id": "9_1jSYR23TOP"
      },
      "source": [
        "Now that the tokenizer is trained, we can define the post-processor: we need to add the CLS token at the beginning and the SEP token at the end (for single sentences) or several SEP tokens (for pairs of sentences). We use a [`TemplateProcessing`](https://huggingface.co/docs/tokenizers/python/latest/api/reference.html#tokenizers.processors.TemplateProcessing) to do this, which requires to know the IDs of the CLS and SEP token (which is why we waited for the training).\n",
        "\n",
        "So let's first grab the ids of the two special tokens:"
      ]
    },
    {
      "cell_type": "code",
      "execution_count": null,
      "metadata": {
        "id": "dqzrwa7F3TOP"
      },
      "outputs": [],
      "source": [
        "cls_token_id = tokenizer.token_to_id(\"[CLS]\")\n",
        "sep_token_id = tokenizer.token_to_id(\"[SEP]\")\n",
        "print(cls_token_id, sep_token_id)"
      ]
    },
    {
      "cell_type": "markdown",
      "metadata": {
        "id": "ZiywnNua3TOQ"
      },
      "source": [
        "And here is how we can build our post processor. We have to indicate in the template how to organize the special tokens with one sentence (`$A`) or two sentences (`$A` and `$B`). The `:` followed by a number indicates the token type ID to give to each part."
      ]
    },
    {
      "cell_type": "code",
      "execution_count": null,
      "metadata": {
        "id": "vr3gygPG3TOS"
      },
      "outputs": [],
      "source": [
        "tokenizer.post_processor = processors.TemplateProcessing(\n",
        "    single=f\"[CLS]:0 $A:0 [SEP]:0\",\n",
        "    pair=f\"[CLS]:0 $A:0 [SEP]:0 $B:1 [SEP]:1\",\n",
        "    special_tokens=[\n",
        "        (\"[CLS]\", cls_token_id),\n",
        "        (\"[SEP]\", sep_token_id),\n",
        "    ],\n",
        ")"
      ]
    },
    {
      "cell_type": "markdown",
      "metadata": {
        "id": "Kxx2Ii313TOT"
      },
      "source": [
        "We can check we get the expected results by encoding a pair of sentences for instance:"
      ]
    },
    {
      "cell_type": "code",
      "execution_count": null,
      "metadata": {
        "id": "OZrRLHyn3TOU"
      },
      "outputs": [],
      "source": [
        "encoding = tokenizer.encode(\"This is one sentence.\", \"With this one we have a pair.\")"
      ]
    },
    {
      "cell_type": "markdown",
      "metadata": {
        "id": "jala65_53TOW"
      },
      "source": [
        "We can look at the tokens to check the special tokens have been inserted in the right places:"
      ]
    },
    {
      "cell_type": "code",
      "execution_count": null,
      "metadata": {
        "id": "WlORcNp03TOX"
      },
      "outputs": [],
      "source": [
        "encoding.tokens"
      ]
    },
    {
      "cell_type": "markdown",
      "metadata": {
        "id": "5E-C8WVr3TOY"
      },
      "source": [
        "And we can check the token type ids are correct:"
      ]
    },
    {
      "cell_type": "code",
      "execution_count": null,
      "metadata": {
        "id": "vONhcTfF3TOZ"
      },
      "outputs": [],
      "source": [
        "encoding.type_ids"
      ]
    },
    {
      "cell_type": "markdown",
      "metadata": {
        "id": "5qbeLqmj3TOa"
      },
      "source": [
        "The last piece in this tokenizer is the decoder, we use a `WordPiece` decoder and indicate the special prefix `##`:"
      ]
    },
    {
      "cell_type": "code",
      "execution_count": null,
      "metadata": {
        "id": "fhx-8bdl3TOb"
      },
      "outputs": [],
      "source": [
        "tokenizer.decoder = decoders.WordPiece(prefix=\"##\")"
      ]
    },
    {
      "cell_type": "markdown",
      "metadata": {
        "id": "U03k0I4p3TOc"
      },
      "source": [
        "Now that our tokenizer is finished, we need to wrap it inside a Transformers object to be able to use it with the Transformers library. More specifically, we have to put it inside the class of tokenizer fast corresponding to the model we want to use, here a `BertTokenizerFast`:"
      ]
    },
    {
      "cell_type": "code",
      "execution_count": null,
      "metadata": {
        "id": "G9TA2EsH3TOe"
      },
      "outputs": [],
      "source": [
        "from transformers import BertTokenizerFast\n",
        "\n",
        "new_tokenizer = BertTokenizerFast(tokenizer_object=tokenizer)"
      ]
    },
    {
      "cell_type": "markdown",
      "metadata": {
        "id": "7rKHl9OD3TOf"
      },
      "source": [
        "And like before, we can use this tokenizer as a normal Transformers tokenizer, and use the `save_pretrained` or `push_to_hub` methods.\n",
        "\n",
        "If the tokenizer you are building does not match any class in Transformers because it's really special, you can wrap it in `PreTrainedTokenizerFast`."
      ]
    },
    {
      "cell_type": "markdown",
      "metadata": {
        "id": "EpEsRPcr3TOg"
      },
      "source": [
        "### BPE model like GPT-2"
      ]
    },
    {
      "cell_type": "markdown",
      "metadata": {
        "id": "lllJOwrD3TOg"
      },
      "source": [
        "Let's now have a look at how we can create a BPE tokenizer like the one used for training GPT-2. The first step is to create a `Tokenizer` with an empty `BPE` model:"
      ]
    },
    {
      "cell_type": "code",
      "execution_count": null,
      "metadata": {
        "id": "lMpwTJjY3TOj"
      },
      "outputs": [],
      "source": [
        "tokenizer = Tokenizer(models.BPE())"
      ]
    },
    {
      "cell_type": "markdown",
      "metadata": {
        "id": "fMhRJG9N3TOk"
      },
      "source": [
        "Like before, we have to add the optional normalization (not used in the case of GPT-2) and we need to specify a pre-tokenizer before training. In the case of GPT-2, the pre-tokenizer used is a byte level pre-tokenizer:"
      ]
    },
    {
      "cell_type": "code",
      "execution_count": null,
      "metadata": {
        "id": "F9yP6qQn3TOl"
      },
      "outputs": [],
      "source": [
        "tokenizer.pre_tokenizer = pre_tokenizers.ByteLevel(add_prefix_space=False)"
      ]
    },
    {
      "cell_type": "markdown",
      "metadata": {
        "id": "gMM9ppyL3TOl"
      },
      "source": [
        "If we want to have a quick look at how it preprocesses the inputs, we can call the `pre_tokenize_str` method:"
      ]
    },
    {
      "cell_type": "code",
      "execution_count": null,
      "metadata": {
        "id": "0Y5Hb_dy3TOm"
      },
      "outputs": [],
      "source": [
        "text=\"This is an example!\"\n",
        "tokenizer.pre_tokenizer.pre_tokenize_str(text)"
      ]
    },
    {
      "cell_type": "markdown",
      "metadata": {
        "id": "qexy5AVX3TOn"
      },
      "source": [
        "We used the same default as for GPT-2 for the prefix space, so you can see that each word gets an initial `'Ġ'` added at the beginning, except the first one.\n",
        "\n",
        "We can now train our tokenizer! This time we use a `BpeTrainer`."
      ]
    },
    {
      "cell_type": "code",
      "execution_count": null,
      "metadata": {
        "id": "iM2YvR9L3TOn"
      },
      "outputs": [],
      "source": [
        "trainer = trainers.BpeTrainer(vocab_size=25000, special_tokens=[\"<|endoftext|>\"])\n",
        "tokenizer.train_from_iterator(batch_iterator(), trainer=trainer)"
      ]
    },
    {
      "cell_type": "markdown",
      "metadata": {
        "id": "UQf8pWNb3TOp"
      },
      "source": [
        "To finish the whole pipeline, we have to include the post-processor and decoder:"
      ]
    },
    {
      "cell_type": "code",
      "execution_count": null,
      "metadata": {
        "id": "Bw1emmDr3TOr"
      },
      "outputs": [],
      "source": [
        "tokenizer.post_processor = processors.ByteLevel(trim_offsets=False)\n",
        "tokenizer.decoder = decoders.ByteLevel()"
      ]
    },
    {
      "cell_type": "markdown",
      "metadata": {
        "id": "zfqJn2Pa3TOs"
      },
      "source": [
        "And like before, we finish by wrapping this in a Transformers tokenizer object:"
      ]
    },
    {
      "cell_type": "code",
      "execution_count": null,
      "metadata": {
        "id": "dYsh12-R3TOs"
      },
      "outputs": [],
      "source": [
        "from transformers import GPT2TokenizerFast\n",
        "\n",
        "new_tokenizer = GPT2TokenizerFast(tokenizer_object=tokenizer)"
      ]
    },
    {
      "cell_type": "markdown",
      "metadata": {
        "id": "zZTGBrWB3TOu"
      },
      "source": [
        "### Unigram model like Albert"
      ]
    },
    {
      "cell_type": "markdown",
      "metadata": {
        "id": "80h2H4qY3TOu"
      },
      "source": [
        "Let's now have a look at how we can create a Unigram tokenizer like the one used for training T5. The first step is to create a `Tokenizer` with an empty `Unigram` model:"
      ]
    },
    {
      "cell_type": "code",
      "execution_count": null,
      "metadata": {
        "id": "bnmoW8nF3TOv"
      },
      "outputs": [],
      "source": [
        "tokenizer = Tokenizer(models.Unigram())"
      ]
    },
    {
      "cell_type": "markdown",
      "metadata": {
        "id": "6WNgzthy3TOw"
      },
      "source": [
        "Like before, we have to add the optional normalization (here some replaces and lower-casing) and we need to specify a pre-tokenizer before training. The pre-tokenizer used is a `Metaspace` pre-tokenizer: it replaces all spaces by a special character (defaulting to ▁) and then splits on that character."
      ]
    },
    {
      "cell_type": "code",
      "execution_count": null,
      "metadata": {
        "id": "tcWco3b_3TOx"
      },
      "outputs": [],
      "source": [
        "tokenizer.normalizer = normalizers.Sequence(\n",
        "    [normalizers.Replace(\"``\", '\"'), normalizers.Replace(\"''\", '\"'), normalizers.Lowercase()]\n",
        ")\n",
        "tokenizer.pre_tokenizer = pre_tokenizers.Metaspace()"
      ]
    },
    {
      "cell_type": "markdown",
      "metadata": {
        "id": "XCvvcQly3TOy"
      },
      "source": [
        "If we want to have a quick look at how it preprocesses the inputs, we can call the `pre_tokenize_str` method:"
      ]
    },
    {
      "cell_type": "code",
      "execution_count": null,
      "metadata": {
        "id": "7ophP5vC3TOz"
      },
      "outputs": [],
      "source": [
        "tokenizer.pre_tokenizer.pre_tokenize_str(\"This is an example!\")"
      ]
    },
    {
      "cell_type": "markdown",
      "metadata": {
        "id": "5lpb-Oge3TOz"
      },
      "source": [
        "You can see that each word gets an initial `▁` added at the beginning, as is usually done by sentencepiece.\n",
        "\n",
        "We can now train our tokenizer! This time we use a `UnigramTrainer`.\"We have to explicitely set the unknown token in this trainer otherwise it will forget it afterward."
      ]
    },
    {
      "cell_type": "code",
      "execution_count": null,
      "metadata": {
        "id": "H-0w_LUE3TO1"
      },
      "outputs": [],
      "source": [
        "trainer = trainers.UnigramTrainer(vocab_size=25000, special_tokens=[\"[CLS]\", \"[SEP]\", \"<unk>\", \"<pad>\", \"[MASK]\"], unk_token=\"<unk>\")\n",
        "tokenizer.train_from_iterator(batch_iterator(), trainer=trainer)"
      ]
    },
    {
      "cell_type": "markdown",
      "metadata": {
        "id": "Rj3FftNH3TO2"
      },
      "source": [
        "To finish the whole pipeline, we have to include the post-processor and decoder. The post-processor is very similar to what we saw with BERT, the decoder is just `Metaspace`, like for the pre-tokenizer."
      ]
    },
    {
      "cell_type": "code",
      "execution_count": null,
      "metadata": {
        "id": "kq4SwblR3TO3"
      },
      "outputs": [],
      "source": [
        "cls_token_id = tokenizer.token_to_id(\"[CLS]\")\n",
        "sep_token_id = tokenizer.token_to_id(\"[SEP]\")"
      ]
    },
    {
      "cell_type": "code",
      "execution_count": null,
      "metadata": {
        "id": "v-5zWl4g3TO3"
      },
      "outputs": [],
      "source": [
        "tokenizer.post_processor = processors.TemplateProcessing(\n",
        "    single=\"[CLS]:0 $A:0 [SEP]:0\",\n",
        "    pair=\"[CLS]:0 $A:0 [SEP]:0 $B:1 [SEP]:1\",\n",
        "    special_tokens=[\n",
        "        (\"[CLS]\", cls_token_id),\n",
        "        (\"[SEP]\", sep_token_id),\n",
        "    ],\n",
        ")\n",
        "tokenizer.decoder = decoders.Metaspace()"
      ]
    },
    {
      "cell_type": "markdown",
      "metadata": {
        "id": "X5YNX2683TO3"
      },
      "source": [
        "And like before, we finish by wrapping this in a Transformers tokenizer object:"
      ]
    },
    {
      "cell_type": "code",
      "execution_count": null,
      "metadata": {
        "id": "8sJWRJFn3TO4"
      },
      "outputs": [],
      "source": [
        "from transformers import AlbertTokenizerFast\n",
        "\n",
        "new_tokenizer = AlbertTokenizerFast(tokenizer_object=tokenizer)"
      ]
    },
    {
      "cell_type": "markdown",
      "metadata": {
        "id": "Rt-pN36V3TO4"
      },
      "source": [
        "## Use your new tokenizer to train a language model!"
      ]
    },
    {
      "cell_type": "markdown",
      "metadata": {
        "id": "Wy-_YD2z3TO5"
      },
      "source": [
        "You can either use your new tokenizer in the language modeling from scratch notebook [Link to come] or use the `--tokenizer_name` argument in the [language modeling scripts](https://github.com/huggingface/transformers/tree/master/examples/pytorch/language-modeling) to use it there to train a model from scratch."
      ]
    },
    {
      "cell_type": "code",
      "execution_count": null,
      "metadata": {
        "id": "8KBM1Ovt3TO6"
      },
      "outputs": [],
      "source": []
    }
  ],
  "metadata": {
    "colab": {
      "name": "Train your tokenizer",
      "provenance": [],
      "toc_visible": true,
      "gpuType": "T4",
      "include_colab_link": true
    },
    "kernelspec": {
      "display_name": "Python 3",
      "name": "python3"
    },
    "language_info": {
      "codemirror_mode": {
        "name": "ipython",
        "version": 3
      },
      "file_extension": ".py",
      "mimetype": "text/x-python",
      "name": "python",
      "nbconvert_exporter": "python",
      "pygments_lexer": "ipython3",
      "version": "3.10.8"
    },
    "accelerator": "GPU"
  },
  "nbformat": 4,
  "nbformat_minor": 0
}